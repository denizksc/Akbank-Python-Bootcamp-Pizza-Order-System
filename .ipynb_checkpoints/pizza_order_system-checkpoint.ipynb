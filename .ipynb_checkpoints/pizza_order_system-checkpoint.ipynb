{
 "cells": [
  {
   "cell_type": "code",
   "execution_count": 54,
   "id": "6045df2f-7922-4151-8a65-0d4d37c9452a",
   "metadata": {},
   "outputs": [],
   "source": [
    "import csv\n",
    "from datetime import datetime "
   ]
  },
  {
   "cell_type": "code",
   "execution_count": 55,
   "id": "66ea4459-9d91-4263-acc3-bcacfe975956",
   "metadata": {},
   "outputs": [],
   "source": [
    "# Pizza sınıfı tanımlaması\n",
    "class Pizza():\n",
    "    def __init__(self, description, cost):\n",
    "        self.description = description\n",
    "        self.cost = cost\n",
    "    def get_cost(self):\n",
    "        return self.cost\n",
    "    def get_description(self):\n",
    "        return self.description"
   ]
  },
  {
   "cell_type": "code",
   "execution_count": 56,
   "id": "d9a4739e-c6b0-4f78-9427-fcfaa36ac7c0",
   "metadata": {},
   "outputs": [],
   "source": [
    "# Alt sınıfların oluşturulması\n",
    "class Classic(Pizza):\n",
    "    def __init__(self):\n",
    "        super().__init__(\"Klasik pizza\", 80.0)\n",
    "class Margherita(Pizza):\n",
    "    def __init__(self):\n",
    "        super().__init__(\"Margarita pizza\", 70.0)\n",
    "class TurkishPizza(Pizza):\n",
    "    def __init__(self):\n",
    "        super().__init__(\"Türk pizzası\", 90.0)\n",
    "class SimplePizza(Pizza):\n",
    "    def __init__(self):\n",
    "        super().__init__(\"Sade pizza\", 50.0)\n",
    "    "
   ]
  },
  {
   "cell_type": "code",
   "execution_count": 57,
   "id": "572f023b-9cff-4143-b738-6fc926686dc9",
   "metadata": {},
   "outputs": [],
   "source": [
    "# Nesnelerin oluşturulması\n",
    "classic = Classic()\n",
    "margherita = Margherita()\n",
    "turkish_pizza = TurkishPizza()\n",
    "simple_pizza = SimplePizza()"
   ]
  },
  {
   "cell_type": "code",
   "execution_count": 58,
   "id": "32429f3e-fcda-4e56-8e6e-38a7b1eaf1fa",
   "metadata": {},
   "outputs": [],
   "source": [
    "#Decorator sınıfının tanımlanması\n",
    "class Decorator(Pizza):\n",
    "    def __init__(self, component):\n",
    "        super().__init__(component.get_description(), component.get_cost())\n",
    "        self.component = component\n",
    "    def get_cost(self):\n",
    "        return self.component.get_cost() + super().get_cost()\n",
    "    def get_description(self):\n",
    "        return self.component.get_description() + ' ' + super().get_description()\n",
    "    "
   ]
  },
  {
   "cell_type": "code",
   "execution_count": 59,
   "id": "8c3de630-783c-41a2-8255-b2afcde7aec9",
   "metadata": {},
   "outputs": [],
   "source": [
    "# Alt sınıfların oluşturulması\n",
    "class Olive(Decorator):\n",
    "    def __init__(self, pizza):\n",
    "        super().__init__(pizza)\n",
    "        self.description = \"ve zeytin eklendi\"\n",
    "        self.cost = 15.0\n",
    "class Mushroom(Decorator):\n",
    "    def __init__(self, pizza):\n",
    "        super().__init__(pizza)\n",
    "        self.description = \"ve mantarlar eklendi\"\n",
    "        self.cost = 30.0 \n",
    "class GoatCheese(Decorator):\n",
    "    def __init__(self, pizza):\n",
    "        super().__init__(pizza)\n",
    "        self.description = \"ve keçi peyniri eklendi\"\n",
    "        self.cost = 35.0 \n",
    "class Meat(Decorator):\n",
    "    def __init__(self, pizza):\n",
    "        super().__init__(pizza)\n",
    "        self.description = \"ve et eklendi\"\n",
    "        self.cost = 60.0 \n",
    "class Onion(Decorator):\n",
    "    def __init__(self, pizza):\n",
    "        super().__init__(pizza)\n",
    "        self.description = \"ve soğan eklendi\"\n",
    "        self.cost = 10.0   \n",
    "class Corn(Decorator):\n",
    "    def __init__(self, pizza):\n",
    "        super().__init__(pizza)\n",
    "        self.description = \"ve mısır eklendi\"\n",
    "        self.cost = 20.0  "
   ]
  },
  {
   "cell_type": "code",
   "execution_count": 60,
   "id": "2d5a844f-1894-4160-b7db-89f0ed0599bc",
   "metadata": {},
   "outputs": [],
   "source": [
    "# Pizza seçimi fonksiyonu\n",
    "def pizzaSelection():\n",
    "    while True:\n",
    "        select_pizza =  int(input(\"Pizza seçiminiz nedir? \"))\n",
    "        if select_pizza == 1:\n",
    "            pizza = classic\n",
    "            break\n",
    "        elif select_pizza == 2:\n",
    "            pizza = margherita\n",
    "            break\n",
    "        elif select_pizza == 3:\n",
    "            pizza = turkish_pizza\n",
    "            break\n",
    "        elif select_pizza == 4:\n",
    "            pizza = simple_pizza\n",
    "            break\n",
    "        else:\n",
    "            print(\"Geçersiz bir seçim yaptınız!!\")\n",
    "            continue\n",
    "    return pizza\n",
    "    "
   ]
  },
  {
   "cell_type": "code",
   "execution_count": 61,
   "id": "be8c0956-a5bb-4746-b637-b7cf589d4cc3",
   "metadata": {},
   "outputs": [],
   "source": [
    "# Sos seçimi fonksiyonu\n",
    "def sauceSelection(pizza):\n",
    "    while True:\n",
    "        select_sauce =  int(input(\"Sos seçiminiz nedir? \")) \n",
    "        if select_sauce == 11:\n",
    "            sauce = Olive(pizza)\n",
    "            break\n",
    "        elif select_sauce == 12:\n",
    "            sauce = Mushroom(pizza)\n",
    "            break\n",
    "        elif select_sauce == 13:\n",
    "            sauce = GoatCheese(pizza)\n",
    "            break\n",
    "        elif select_sauce == 14:\n",
    "            sauce = Meat(pizza)\n",
    "            break\n",
    "        elif select_sauce == 15:\n",
    "            sauce = Onion(pizza)\n",
    "            break\n",
    "        elif select_sauce == 16:\n",
    "            sauce = Corn(pizza)\n",
    "            break\n",
    "        else:\n",
    "            print(\"Geçersiz bir seçim yaptınız!!\")\n",
    "            continue\n",
    "    return sauce"
   ]
  },
  {
   "cell_type": "code",
   "execution_count": 62,
   "id": "061dc2f6-33fe-4f92-81d7-05e8f166c8e9",
   "metadata": {},
   "outputs": [],
   "source": [
    "# Kullanıcı bilgilerinin alındığı ve dosya yazdırma işlemlerinin bulunduğu fonksiyon\n",
    "def writeFile(basket, total_cost):\n",
    "    with open(\"Orders_Database.csv\", 'w+',encoding=\"utf-8\") as file:\n",
    "        \n",
    "        myFile = csv.writer(file) \n",
    "\n",
    "        myFile.writerow([\"Name\", \"TC No\", \"Card information\", \"Card password\", \"Order explanation\",\"Order cost\", \"Order Date-Time\"])\n",
    "        while True:\n",
    "            name = input(\"İsminizi giriniz: \")\n",
    "            if any(char.isdigit() for char in name):\n",
    "                print(\"Geçersiz giriş.\")\n",
    "                continue\n",
    "            else:\n",
    "                break\n",
    "        while True:\n",
    "            tc = input(\"11 haneli TC Kimlik numaranızı giriniz: \")\n",
    "            if(len(tc) != 11 or not tc.isdigit()):\n",
    "                print(\"T.C. kimlik numarası 11 haneden oluşmalıdır.\")\n",
    "                continue\n",
    "            else:\n",
    "                break\n",
    "        while True:\n",
    "            credit = input(\"Kredi kartı numaranızı giriniz: \")\n",
    "            if(len(credit) != 16 or not credit.isdigit()):\n",
    "                print(\"Kredi kartı numarası 16 haneden oluşmalıdır\")\n",
    "                continue\n",
    "            else:\n",
    "                break\n",
    "        while True:\n",
    "            credit_password = input(\"Kredi kartı şifrenizi giriniz: \")\n",
    "            if(len(credit_password) != 4 or not credit_password.isdigit()):\n",
    "                print(\"Kredi kartı şifresi 4 haneden oluşmalıdır\")\n",
    "                continue\n",
    "            else:\n",
    "                break\n",
    "        now = datetime.now()\n",
    "        date = now.strftime(\"%d-%m-%Y %H:%M\")\n",
    "    \n",
    "        myFile.writerow([name, tc, credit, credit_password, basket, total_cost, date])\n",
    "    "
   ]
  },
  {
   "cell_type": "code",
   "execution_count": 63,
   "id": "901c7e94-1b77-4b2e-bafa-0f3192c8f2a5",
   "metadata": {},
   "outputs": [
    {
     "name": "stdout",
     "output_type": "stream",
     "text": [
      "* Lütfen Bir Pizza Tabanı Seçiniz:\n",
      "1: Klasik\n",
      "2: Margarita\n",
      "3: TürkPizza\n",
      "4: Sade Pizza\n",
      "* ve seçeceğiniz sos:\n",
      "11: Zeytin\n",
      "12: Mantarlar\n",
      "13: Keçi Peyniri\n",
      "14: Et\n",
      "15: Soğan\n",
      "16: Mısır\n",
      "* Teşekkür ederiz!\n",
      "\n"
     ]
    },
    {
     "name": "stdin",
     "output_type": "stream",
     "text": [
      "Pizza seçiminiz nedir?  3\n",
      "Sos seçiminiz nedir?  14\n"
     ]
    },
    {
     "name": "stdout",
     "output_type": "stream",
     "text": [
      "*****************************************\n",
      "Sepet: Türk pizzası ve et eklendi\n",
      "Toplam fiyat: 150.0₺\n",
      "*****************************************\n"
     ]
    },
    {
     "name": "stdin",
     "output_type": "stream",
     "text": [
      "İsminizi giriniz:  Derya Deniz\n",
      "11 haneli TC Kimlik numaranızı giriniz:  47854987456\n",
      "Kredi kartı numaranızı giriniz:  1456325897456987\n",
      "Kredi kartı şifrenizi giriniz:  1456\n"
     ]
    },
    {
     "name": "stdout",
     "output_type": "stream",
     "text": [
      "*****************************************\n",
      "Siparişiniz başarıyla oluşturuldu.\n"
     ]
    }
   ],
   "source": [
    "# Main \n",
    "if __name__== \"__main__\":\n",
    "    menu = open(\"menu.txt\",\"r\",encoding=\"utf-8\")\n",
    "    print(menu.read())\n",
    "    pizza = pizzaSelection()\n",
    "    sauce = sauceSelection(pizza)\n",
    "    print(\"*****************************************\")\n",
    "    basket = sauce.get_description()\n",
    "    print(f\"Sepet: {sauce.get_description()}\")\n",
    "    total_cost = sauce.get_cost()\n",
    "    print(\"Toplam fiyat: {}₺\".format(total_cost))\n",
    "    print(\"*****************************************\")\n",
    "    writeFile(basket, total_cost)\n",
    "    print(\"*****************************************\")\n",
    "    print(\"Siparişiniz başarıyla oluşturuldu.\")\n",
    "    "
   ]
  },
  {
   "cell_type": "code",
   "execution_count": null,
   "id": "d3d15c95-239d-4fde-88c0-753539871f49",
   "metadata": {},
   "outputs": [],
   "source": []
  }
 ],
 "metadata": {
  "kernelspec": {
   "display_name": "Python 3 (ipykernel)",
   "language": "python",
   "name": "python3"
  },
  "language_info": {
   "codemirror_mode": {
    "name": "ipython",
    "version": 3
   },
   "file_extension": ".py",
   "mimetype": "text/x-python",
   "name": "python",
   "nbconvert_exporter": "python",
   "pygments_lexer": "ipython3",
   "version": "3.9.13"
  }
 },
 "nbformat": 4,
 "nbformat_minor": 5
}
